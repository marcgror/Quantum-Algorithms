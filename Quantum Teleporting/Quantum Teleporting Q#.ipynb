{
 "cells": [
  {
   "cell_type": "markdown",
   "metadata": {},
   "source": [
    "# Quantum Teleportation\n",
    "Teleportation has always been an interesting feature in Quantum Mechanics. In this notebook I will try to implement a quantum algorithm to transport the state ( magnitudes and relative phases) from one qubit to another.\n",
    "For this example, we will need three qubits and two physicists, Alice and Bob. Alice wants to teleport the state of one qubit (data) to Bob, and she will use an entangled pair of qubits shared with Bob for it.\n",
    "\n",
    "Alice begins by preparing her data qubit, and then she entangles it with her other qubit, which is already entangled with Bob's qubit. By READing both qubits, she destroys them, and she can send the resulted two bits to Bob, who will use them to perform single-qubit operations on his half of the entangled paired of qubits, obtaining finally the original data qubit Alice wanted to send."
   ]
  },
  {
   "cell_type": "code",
   "execution_count": 1,
   "metadata": {
    "tags": []
   },
   "outputs": [
    {
     "output_type": "stream",
     "name": "stdout",
     "text": "Preparing Q# environment...\n"
    }
   ],
   "source": [
    "# import qhsarp and the Q# operations\n",
    "import qsharp\n",
    "from QuantumTeleporting import PrepareBellState, MeasureBellBasis, TeleportVerify"
   ]
  },
  {
   "cell_type": "code",
   "execution_count": 2,
   "metadata": {
    "tags": []
   },
   "outputs": [
    {
     "output_type": "stream",
     "name": "stdout",
     "text": "State to be teleported (data qubit):\n|0⟩\t0,8775825618903728 + 0𝑖\n|1⟩\t0,479425538604203 + 0𝑖\nBob's qubit state after Alice's measurement (before teleporting):\n|0⟩\t0,8775825618903729 + 0𝑖\n|1⟩\t-0,47942553860420306 + 0𝑖\nBob's qubit state after teleporting:\n|0⟩\t0,8775825618903729 + 0𝑖\n|1⟩\t0,47942553860420306 + 0𝑖()\n"
    }
   ],
   "source": [
    "# run the teleporting simulation\n",
    "print(TeleportVerify.simulate())"
   ]
  },
  {
   "cell_type": "markdown",
   "metadata": {},
   "source": [
    "At the end, the Alice's data qubit and her half entangled-pair qubit are destroyed, while Bob's qubit has now the same state that originally data qubit had.\n",
    "In this example we saw how quantum information can not be replicated, and then one qubit can not be copied without being destroyed and its quantum state teleported to the destination qubit."
   ]
  }
 ],
 "metadata": {
  "language_info": {
   "codemirror_mode": {
    "name": "ipython",
    "version": 3
   },
   "file_extension": ".py",
   "mimetype": "text/x-python",
   "name": "python",
   "nbconvert_exporter": "python",
   "pygments_lexer": "ipython3",
   "version": "3.7.7-final"
  },
  "orig_nbformat": 2,
  "kernelspec": {
   "name": "python37764bitqsharpenvconda97438c8ec1b0475788f658a5f979b4f1",
   "display_name": "Python 3.7.7 64-bit ('qsharp-env': conda)"
  }
 },
 "nbformat": 4,
 "nbformat_minor": 2
}