{
 "cells": [
  {
   "cell_type": "code",
   "execution_count": 1,
   "metadata": {},
   "outputs": [],
   "source": [
    "# Import necessary packages\n",
    "import qsharp\n",
    "from qsharp import Result\n",
    "from Quantum.Bell import TestBellState\n",
    "from Qrng import SampleQuantumRandomNumberGenerator"
   ]
  },
  {
   "cell_type": "markdown",
   "metadata": {},
   "source": [
    "# Quantum Random Generator"
   ]
  },
  {
   "cell_type": "code",
   "execution_count": 2,
   "metadata": {},
   "outputs": [
    {
     "output_type": "stream",
     "name": "stdout",
     "text": "The random number generated is 38\n"
    }
   ],
   "source": [
    "max = 50\n",
    "output = max + 1\n",
    "while output > max:\n",
    "    bit_string = []\n",
    "    for i in range(0, max.bit_length()):\n",
    "        bit_string.append(SampleQuantumRandomNumberGenerator.simulate())\n",
    "    output = int(\"\".join(str(x) for x in bit_string), 2)\n",
    "print('The random number generated is ' + str(output))"
   ]
  },
  {
   "cell_type": "markdown",
   "metadata": {},
   "source": [
    "# Test Bell State"
   ]
  },
  {
   "cell_type": "code",
   "execution_count": 3,
   "metadata": {},
   "outputs": [
    {
     "output_type": "stream",
     "name": "stdout",
     "text": "Init:0    0s=475  1s=525  agree=1000\nInit:1    0s=458  1s=542  agree=1000\n"
    }
   ],
   "source": [
    "initials = (Result.Zero, Result.One)\n",
    "\n",
    "for i in initials:\n",
    "    res = TestBellState.simulate(count=1000, initial=i)\n",
    "    (num_zeros, num_ones, agree) = res\n",
    "    print(f'Init:{i: <4} 0s={num_zeros: <4} 1s={num_ones: <4} agree={agree: <4}')"
   ]
  }
 ],
 "metadata": {
  "language_info": {
   "codemirror_mode": {
    "name": "ipython",
    "version": 3
   },
   "file_extension": ".py",
   "mimetype": "text/x-python",
   "name": "python",
   "nbconvert_exporter": "python",
   "pygments_lexer": "ipython3",
   "version": "3.7.7-final"
  },
  "orig_nbformat": 2,
  "kernelspec": {
   "name": "python38264bitmyenvconda7bdd62f05e9b44c6a00d03f76214cfbd",
   "display_name": "Python 3.8.2 64-bit ('myenv': conda)"
  }
 },
 "nbformat": 4,
 "nbformat_minor": 2
}