{
 "cells": [
  {
   "cell_type": "markdown",
   "metadata": {},
   "source": [
    "# Multiple Qubits\n",
    "In this notebook I will play with quantum operators acting on multiple qubits, using Cirq."
   ]
  },
  {
   "cell_type": "code",
   "execution_count": 1,
   "metadata": {},
   "outputs": [],
   "source": [
    "import cirq"
   ]
  },
  {
   "cell_type": "markdown",
   "metadata": {},
   "source": [
    "## Multi-qubit state\n",
    "Putting 2 of 3 qubits in superposition (Hadamard operator) we can express the superposition of the states $|000>$, $|010>$, $|100>$, $|110>$ in terms of each individual qubit's state.\n",
    "We declare and initiate 3 qubits, put qubits 2 and three in superpostion applying the Hadamard operator on them, and we end up with a superposition of 4 states."
   ]
  },
  {
   "cell_type": "code",
   "execution_count": 63,
   "metadata": {
    "tags": []
   },
   "outputs": [
    {
     "output_type": "stream",
     "name": "stdout",
     "text": "Circuit:\nqubit 2: ───H───\n\nqubit 3: ───H───\n"
    },
    {
     "output_type": "execute_result",
     "data": {
      "text/plain": "measurements: (no measurements)\noutput vector: 0.5|00⟩ + 0.5|01⟩ + 0.5|10⟩ + 0.5|11⟩"
     },
     "metadata": {},
     "execution_count": 63
    }
   ],
   "source": [
    "# Initiate three qubits\n",
    "q0 = cirq.NamedQubit('qubit 1')\n",
    "q1 = cirq.NamedQubit('qubit 2')\n",
    "q2 = cirq.NamedQubit('qubit 3')\n",
    "# Initiate the circuit and the simulator\n",
    "circuit = cirq.Circuit()\n",
    "simulator = cirq.Simulator()\n",
    "# Put qubit 2 and 3 in superposition\n",
    "circuit.append(cirq.H(q1))\n",
    "circuit.append(cirq.H(q2))\n",
    "# Print circuit\n",
    "print(\"Circuit:\\n{}\".format(circuit))\n",
    "# Print output\n",
    "simulator.simulate(circuit)"
   ]
  },
  {
   "cell_type": "code",
   "execution_count": null,
   "metadata": {},
   "outputs": [],
   "source": [
    "Each one of the 4 states in superposition has the same amplitude (probability), 0.5 (25 %), so they sum 1 in total."
   ]
  },
  {
   "cell_type": "markdown",
   "metadata": {},
   "source": [
    "## Creating Bell Pairs using CNOT\n",
    "In this example, we initiate two qubits, put one of them in superposition, and then entangle them using a CNOT gate so they become correlated. Therefore, they share randomness, because when reading the value of the entangled qubits, one find the same value."
   ]
  },
  {
   "cell_type": "code",
   "execution_count": 65,
   "metadata": {
    "tags": []
   },
   "outputs": [
    {
     "output_type": "stream",
     "name": "stdout",
     "text": "Circuit:\na: ───H───@───M───\n          │\nb: ───────X───M───\n"
    },
    {
     "output_type": "execute_result",
     "data": {
      "text/plain": "measurements: a=1 b=1\noutput vector: |11⟩"
     },
     "metadata": {},
     "execution_count": 65
    }
   ],
   "source": [
    "# Initiate qubits a and b\n",
    "a = cirq.NamedQubit('a')\n",
    "b = cirq.NamedQubit('b')\n",
    "# Initiate the circuit and the simulator \n",
    "circuit = cirq.Circuit() \n",
    "simulator = cirq.Simulator()\n",
    "# Place qubit a in superposition\n",
    "circuit.append(cirq.H(a))\n",
    "# Entangle\n",
    "circuit.append(cirq.CNOT(a,b))\n",
    "# Mesure qubit a and b\n",
    "circuit.append(cirq.measure(a)) \n",
    "circuit.append(cirq.measure(b))\n",
    "# Print the circuit \n",
    "print(\"Circuit:\\n{}\".format(circuit))\n",
    "# Print the simulator \n",
    "simulator.simulate(circuit) "
   ]
  },
  {
   "cell_type": "markdown",
   "metadata": {},
   "source": [
    "The two qubits share the measured value, and then they are commonly referred as a Bell pair."
   ]
  }
 ],
 "metadata": {
  "language_info": {
   "codemirror_mode": {
    "name": "ipython",
    "version": 3
   },
   "file_extension": ".py",
   "mimetype": "text/x-python",
   "name": "python",
   "nbconvert_exporter": "python",
   "pygments_lexer": "ipython3",
   "version": "3.7.7-final"
  },
  "orig_nbformat": 2,
  "kernelspec": {
   "name": "python38264bitmyenvconda7bdd62f05e9b44c6a00d03f76214cfbd",
   "display_name": "Python 3.8.2 64-bit ('myenv': conda)"
  }
 },
 "nbformat": 4,
 "nbformat_minor": 2
}