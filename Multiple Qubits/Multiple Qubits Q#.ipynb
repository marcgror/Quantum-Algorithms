{
 "cells": [
  {
   "cell_type": "markdown",
   "metadata": {},
   "source": [
    "# Multiple Qubits\n",
    "In this notebook I will play with quantum operators acting on multiple qubits, using Q#."
   ]
  },
  {
   "cell_type": "code",
   "execution_count": 1,
   "metadata": {
    "tags": []
   },
   "outputs": [],
   "source": [
    "import qsharp\n",
    "from State import SeparableState, PrepareBellPairs, Phasekickback, RunSwaptest, CustomCPHASE, RemoteControlledRandomness"
   ]
  },
  {
   "cell_type": "markdown",
   "metadata": {},
   "source": [
    "## Multi-Qubit state\n",
    "Putting 2 of 3 qubits in superposition (Hadamard operator) we can express the superposition of the states $|0>=|000>$, $|2>=|010>$, $|4>=|100>$, $|6>=|110>$ in terms of each individual qubit's state.\n",
    "We declare and initiate 3 qubits, put qubits 2 and three in superpostion applying the Hadamard operator on them, and we end up with a superposition of 4 states."
   ]
  },
  {
   "cell_type": "code",
   "execution_count": 2,
   "metadata": {
    "tags": []
   },
   "outputs": [
    {
     "output_type": "stream",
     "name": "stdout",
     "text": "|0⟩\t0,5000000000000001 + 0𝑖\n|1⟩\t0 + 0𝑖\n|2⟩\t0,5000000000000001 + 0𝑖\n|3⟩\t0 + 0𝑖\n|4⟩\t0,5000000000000001 + 0𝑖\n|5⟩\t0 + 0𝑖\n|6⟩\t0,5000000000000001 + 0𝑖\n|7⟩\t0 + 0𝑖()\n"
    }
   ],
   "source": [
    "print (SeparableState.simulate())"
   ]
  },
  {
   "cell_type": "markdown",
   "metadata": {},
   "source": [
    "Each one of the 4 states in superposition has the same amplitude (probability), 0.5 (25 %), so they sum 1 in total."
   ]
  },
  {
   "cell_type": "markdown",
   "metadata": {},
   "source": [
    "## Creating Bell Pairs using CNOT\n",
    "In this example, we initiate two qubits, put one of them in superposition, and then entangle them using a CNOT gate so they become correlated. Therefore, they share randomness, because when reading the value of the entangled qubits, one find the same value.\n",
    "CNOT operates on two qubits: it applies the NOT operation to a target qubit, but only if a condition qubit has the value 1."
   ]
  },
  {
   "cell_type": "code",
   "execution_count": 3,
   "metadata": {
    "tags": []
   },
   "outputs": [
    {
     "output_type": "stream",
     "name": "stdout",
     "text": "Measurements: One, One\n()\nMeasurements: One, One\n()\nMeasurements: Zero, Zero\n()\nMeasurements: One, One\n()\nMeasurements: Zero, Zero\n()\nMeasurements: Zero, Zero\n()\nMeasurements: One, One\n()\nMeasurements: Zero, Zero\n()\nMeasurements: One, One\n()\nMeasurements: One, One\n()\n"
    }
   ],
   "source": [
    "for i in range(10):\n",
    "    print(PrepareBellPairs.simulate())"
   ]
  },
  {
   "cell_type": "markdown",
   "metadata": {},
   "source": [
    "The two qubits share the measured value, and then they are commonly referred as a Bell pair."
   ]
  },
  {
   "cell_type": "markdown",
   "metadata": {},
   "source": [
    "## Phase Kickback\n",
    "Phase kickback is a usefull trick to apply phase rotations to specific values in a register. It works by performing phase rotations on some other register conditioned on qubits from the original register."
   ]
  },
  {
   "cell_type": "code",
   "execution_count": 4,
   "metadata": {
    "tags": []
   },
   "outputs": [
    {
     "output_type": "stream",
     "name": "stdout",
     "text": "Wave function of the three-qubit state before phase kickback:\n|0⟩\t0 + 0𝑖\n|1⟩\t0 + 0𝑖\n|2⟩\t0 + 0𝑖\n|3⟩\t0 + 0𝑖\n|4⟩\t0,5000000000000001 + 0𝑖\n|5⟩\t0,5000000000000001 + 0𝑖\n|6⟩\t0,5000000000000001 + 0𝑖\n|7⟩\t0,5000000000000001 + 0𝑖\nWave function of the three-qubit state after phase kickback:\n|0⟩\t0 + 0𝑖\n|1⟩\t0 + 0𝑖\n|2⟩\t0 + 0𝑖\n|3⟩\t0 + 0𝑖\n|4⟩\t0,5000000000000001 + 0𝑖\n|5⟩\t0,35355339059327384 + 0,35355339059327384𝑖\n|6⟩\t0 + 0,5000000000000001𝑖\n|7⟩\t-0,35355339059327384 + 0,35355339059327384𝑖()\n"
    }
   ],
   "source": [
    "print(Phasekickback.simulate())"
   ]
  },
  {
   "cell_type": "markdown",
   "metadata": {},
   "source": [
    "## The Swap Test\n",
    "Given the destructive nature of the READ operator, the Swap Test allows to determine if the qubits in two registers are in the same state, but without telling us what either state is."
   ]
  },
  {
   "cell_type": "code",
   "execution_count": 5,
   "metadata": {
    "tags": []
   },
   "outputs": [
    {
     "output_type": "stream",
     "name": "stdout",
     "text": "The states of the two registers were reported equal 62% of the time\n()\n"
    }
   ],
   "source": [
    "print(RunSwaptest.simulate())"
   ]
  },
  {
   "cell_type": "markdown",
   "metadata": {},
   "source": [
    "## Conditional Phase Rotation\n",
    "For cases when a conditional version of some operation is not available, following an alternative circuit could be one solution. In this example, we construct a circuit equivalent to a PHASE(90) only when both qubits are 1 $(|1>|1>)$."
   ]
  },
  {
   "cell_type": "code",
   "execution_count": 6,
   "metadata": {
    "tags": []
   },
   "outputs": [
    {
     "output_type": "stream",
     "name": "stdout",
     "text": "Wave function:\n|0⟩\t0,5000000000000001 + 0𝑖\n|1⟩\t0,5000000000000001 + 0𝑖\n|2⟩\t0,5000000000000001 + 0𝑖\n|3⟩\t0 + 0,5000000000000001𝑖\nWave function when applying an equivalent single gate:\n|0⟩\t0,5000000000000001 + 0𝑖\n|1⟩\t0,5000000000000001 + 0𝑖\n|2⟩\t0,5000000000000001 + 0𝑖\n|3⟩\t-0,5000000000000001 + 0𝑖()\n"
    }
   ],
   "source": [
    "print(CustomCPHASE.simulate())"
   ]
  },
  {
   "cell_type": "markdown",
   "metadata": {},
   "source": [
    "## Remote-Controlled Randomness\n",
    "This final example shows one of the nonobvious properties of entanglement. Given two qubits in superposition, READ the value of qubit a will modify the outcomes probabilities of qubit b.\n",
    "In this case, once qubit a is READ to 0, qubit b has only a 15% probability of reading 1, and 85% of reading 0. If qubit a READs 1, the probabilities are the reversed.\n",
    "The example consists in 1000 attempts, obtaining the 4 different outputs. With these results, one can compute the probabilities and see if they match the theoretic values."
   ]
  },
  {
   "cell_type": "code",
   "execution_count": 7,
   "metadata": {
    "tags": []
   },
   "outputs": [
    {
     "output_type": "stream",
     "name": "stdout",
     "text": "Overall measurements counts (out of 1000): [449,86,65,400]\nWhen a was measured to be 0, b was measured 0 83,92523364485982% of times\nWhen a was measured to be 1, b was measured 0 13,978494623655912% of times\n()\n"
    }
   ],
   "source": [
    "print(RemoteControlledRandomness.simulate())"
   ]
  }
 ],
 "metadata": {
  "language_info": {
   "codemirror_mode": {
    "name": "ipython",
    "version": 3
   },
   "file_extension": ".py",
   "mimetype": "text/x-python",
   "name": "python",
   "nbconvert_exporter": "python",
   "pygments_lexer": "ipython3",
   "version": "3.7.7-final"
  },
  "orig_nbformat": 2,
  "kernelspec": {
   "name": "python37764bitqsharpenvconda97438c8ec1b0475788f658a5f979b4f1",
   "display_name": "Python 3.7.7 64-bit ('qsharp-env': conda)"
  }
 },
 "nbformat": 4,
 "nbformat_minor": 2
}