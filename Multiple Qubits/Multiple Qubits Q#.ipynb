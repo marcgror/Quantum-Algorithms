{
 "cells": [
  {
   "cell_type": "markdown",
   "metadata": {},
   "source": [
    "# Multiple Qubits\n",
    "In this notebook I will play with quantum operators acting on multiple qubits, using Q#."
   ]
  },
  {
   "cell_type": "code",
   "execution_count": 1,
   "metadata": {
    "tags": []
   },
   "outputs": [
    {
     "output_type": "stream",
     "name": "stdout",
     "text": "Preparing Q# environment...\n"
    }
   ],
   "source": [
    "import qsharp\n",
    "from State import SeparableState, PrepareBellPairs"
   ]
  },
  {
   "cell_type": "markdown",
   "metadata": {},
   "source": [
    "## Multi-Qubit state\n",
    "Putting 2 of 3 qubits in superposition (Hadamard operator) we can express the superposition of the states $|000>$, $|010>$, $|100>$, $|110>$ in terms of each individual qubit's state.\n",
    "We declare and initiate 3 qubits, put qubits 2 and three in superpostion applying the Hadamard operator on them, and we end up with a superposition of 4 states."
   ]
  },
  {
   "cell_type": "code",
   "execution_count": 9,
   "metadata": {
    "tags": []
   },
   "outputs": [
    {
     "output_type": "stream",
     "name": "stdout",
     "text": "|0⟩\t0,5000000000000001 + 0𝑖\n|1⟩\t0 + 0𝑖\n|2⟩\t0,5000000000000001 + 0𝑖\n|3⟩\t0 + 0𝑖\n|4⟩\t0,5000000000000001 + 0𝑖\n|5⟩\t0 + 0𝑖\n|6⟩\t0,5000000000000001 + 0𝑖\n|7⟩\t0 + 0𝑖()\n"
    }
   ],
   "source": [
    "print (SeparableState.simulate())"
   ]
  },
  {
   "cell_type": "markdown",
   "metadata": {},
   "source": [
    "Each one of the 4 states in superposition has the same amplitude (probability), 0.5 (25 %), so they sum 1 in total."
   ]
  },
  {
   "cell_type": "markdown",
   "metadata": {},
   "source": [
    "## Creating Bell Pairs using CNOT\n",
    "In this example, we initiate two qubits, put one of them in superposition, and then entangle them using a CNOT gate so they become correlated. Therefore, they share randomness, because when reading the value of the entangled qubits, one find the same value."
   ]
  },
  {
   "cell_type": "code",
   "execution_count": 13,
   "metadata": {
    "tags": []
   },
   "outputs": [
    {
     "output_type": "stream",
     "name": "stdout",
     "text": "Measurements: One, One\n()\nMeasurements: Zero, Zero\n()\nMeasurements: One, One\n()\nMeasurements: One, One\n()\nMeasurements: One, One\n()\nMeasurements: Zero, Zero\n()\nMeasurements: Zero, Zero\n()\nMeasurements: One, One\n()\nMeasurements: Zero, Zero\n()\nMeasurements: One, One\n()\n"
    }
   ],
   "source": [
    "for i in range(10):\n",
    "    print(PrepareBellPairs.simulate())"
   ]
  },
  {
   "cell_type": "markdown",
   "metadata": {},
   "source": [
    "The two qubits share the measured value, and then they are commonly referred as a Bell pair."
   ]
  }
 ],
 "metadata": {
  "language_info": {
   "codemirror_mode": {
    "name": "ipython",
    "version": 3
   },
   "file_extension": ".py",
   "mimetype": "text/x-python",
   "name": "python",
   "nbconvert_exporter": "python",
   "pygments_lexer": "ipython3",
   "version": "3.7.7-final"
  },
  "orig_nbformat": 2,
  "kernelspec": {
   "name": "python37764bitqsharpenvconda97438c8ec1b0475788f658a5f979b4f1",
   "display_name": "Python 3.7.7 64-bit ('qsharp-env': conda)"
  }
 },
 "nbformat": 4,
 "nbformat_minor": 2
}